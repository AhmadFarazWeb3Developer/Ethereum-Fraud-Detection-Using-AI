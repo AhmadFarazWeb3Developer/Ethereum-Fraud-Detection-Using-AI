{
 "cells": [
  {
   "cell_type": "markdown",
   "id": "b1d768a8",
   "metadata": {},
   "source": [
    "<h1>1. Data Collection</h1>"
   ]
  },
  {
   "cell_type": "markdown",
   "id": "7a42ec59",
   "metadata": {},
   "source": [
    "<h3>Dataset Head</h3>"
   ]
  },
  {
   "cell_type": "code",
   "execution_count": 2,
   "id": "9cdbaa0d",
   "metadata": {},
   "outputs": [
    {
     "data": {
      "text/html": [
       "<div>\n",
       "<style scoped>\n",
       "    .dataframe tbody tr th:only-of-type {\n",
       "        vertical-align: middle;\n",
       "    }\n",
       "\n",
       "    .dataframe tbody tr th {\n",
       "        vertical-align: top;\n",
       "    }\n",
       "\n",
       "    .dataframe thead th {\n",
       "        text-align: right;\n",
       "    }\n",
       "</style>\n",
       "<table border=\"1\" class=\"dataframe\">\n",
       "  <thead>\n",
       "    <tr style=\"text-align: right;\">\n",
       "      <th></th>\n",
       "      <th>Unnamed: 0</th>\n",
       "      <th>Index</th>\n",
       "      <th>Address</th>\n",
       "      <th>FLAG</th>\n",
       "      <th>Avg min between sent tnx</th>\n",
       "      <th>Avg min between received tnx</th>\n",
       "      <th>Time Diff between first and last (Mins)</th>\n",
       "      <th>Sent tnx</th>\n",
       "      <th>Received Tnx</th>\n",
       "      <th>Number of Created Contracts</th>\n",
       "      <th>...</th>\n",
       "      <th>ERC20 min val sent</th>\n",
       "      <th>ERC20 max val sent</th>\n",
       "      <th>ERC20 avg val sent</th>\n",
       "      <th>ERC20 min val sent contract</th>\n",
       "      <th>ERC20 max val sent contract</th>\n",
       "      <th>ERC20 avg val sent contract</th>\n",
       "      <th>ERC20 uniq sent token name</th>\n",
       "      <th>ERC20 uniq rec token name</th>\n",
       "      <th>ERC20 most sent token type</th>\n",
       "      <th>ERC20_most_rec_token_type</th>\n",
       "    </tr>\n",
       "  </thead>\n",
       "  <tbody>\n",
       "    <tr>\n",
       "      <th>0</th>\n",
       "      <td>0</td>\n",
       "      <td>1</td>\n",
       "      <td>0x00009277775ac7d0d59eaad8fee3d10ac6c805e8</td>\n",
       "      <td>0</td>\n",
       "      <td>844.26</td>\n",
       "      <td>1093.71</td>\n",
       "      <td>704785.63</td>\n",
       "      <td>721</td>\n",
       "      <td>89</td>\n",
       "      <td>0</td>\n",
       "      <td>...</td>\n",
       "      <td>0.000000</td>\n",
       "      <td>1.683100e+07</td>\n",
       "      <td>271779.920000</td>\n",
       "      <td>0.0</td>\n",
       "      <td>0.0</td>\n",
       "      <td>0.0</td>\n",
       "      <td>39.0</td>\n",
       "      <td>57.0</td>\n",
       "      <td>Cofoundit</td>\n",
       "      <td>Numeraire</td>\n",
       "    </tr>\n",
       "    <tr>\n",
       "      <th>1</th>\n",
       "      <td>1</td>\n",
       "      <td>2</td>\n",
       "      <td>0x0002b44ddb1476db43c868bd494422ee4c136fed</td>\n",
       "      <td>0</td>\n",
       "      <td>12709.07</td>\n",
       "      <td>2958.44</td>\n",
       "      <td>1218216.73</td>\n",
       "      <td>94</td>\n",
       "      <td>8</td>\n",
       "      <td>0</td>\n",
       "      <td>...</td>\n",
       "      <td>2.260809</td>\n",
       "      <td>2.260809e+00</td>\n",
       "      <td>2.260809</td>\n",
       "      <td>0.0</td>\n",
       "      <td>0.0</td>\n",
       "      <td>0.0</td>\n",
       "      <td>1.0</td>\n",
       "      <td>7.0</td>\n",
       "      <td>Livepeer Token</td>\n",
       "      <td>Livepeer Token</td>\n",
       "    </tr>\n",
       "    <tr>\n",
       "      <th>2</th>\n",
       "      <td>2</td>\n",
       "      <td>3</td>\n",
       "      <td>0x0002bda54cb772d040f779e88eb453cac0daa244</td>\n",
       "      <td>0</td>\n",
       "      <td>246194.54</td>\n",
       "      <td>2434.02</td>\n",
       "      <td>516729.30</td>\n",
       "      <td>2</td>\n",
       "      <td>10</td>\n",
       "      <td>0</td>\n",
       "      <td>...</td>\n",
       "      <td>0.000000</td>\n",
       "      <td>0.000000e+00</td>\n",
       "      <td>0.000000</td>\n",
       "      <td>0.0</td>\n",
       "      <td>0.0</td>\n",
       "      <td>0.0</td>\n",
       "      <td>0.0</td>\n",
       "      <td>8.0</td>\n",
       "      <td>NaN</td>\n",
       "      <td>XENON</td>\n",
       "    </tr>\n",
       "    <tr>\n",
       "      <th>3</th>\n",
       "      <td>3</td>\n",
       "      <td>4</td>\n",
       "      <td>0x00038e6ba2fd5c09aedb96697c8d7b8fa6632e5e</td>\n",
       "      <td>0</td>\n",
       "      <td>10219.60</td>\n",
       "      <td>15785.09</td>\n",
       "      <td>397555.90</td>\n",
       "      <td>25</td>\n",
       "      <td>9</td>\n",
       "      <td>0</td>\n",
       "      <td>...</td>\n",
       "      <td>100.000000</td>\n",
       "      <td>9.029231e+03</td>\n",
       "      <td>3804.076893</td>\n",
       "      <td>0.0</td>\n",
       "      <td>0.0</td>\n",
       "      <td>0.0</td>\n",
       "      <td>1.0</td>\n",
       "      <td>11.0</td>\n",
       "      <td>Raiden</td>\n",
       "      <td>XENON</td>\n",
       "    </tr>\n",
       "    <tr>\n",
       "      <th>4</th>\n",
       "      <td>4</td>\n",
       "      <td>5</td>\n",
       "      <td>0x00062d1dd1afb6fb02540ddad9cdebfe568e0d89</td>\n",
       "      <td>0</td>\n",
       "      <td>36.61</td>\n",
       "      <td>10707.77</td>\n",
       "      <td>382472.42</td>\n",
       "      <td>4598</td>\n",
       "      <td>20</td>\n",
       "      <td>1</td>\n",
       "      <td>...</td>\n",
       "      <td>0.000000</td>\n",
       "      <td>4.500000e+04</td>\n",
       "      <td>13726.659220</td>\n",
       "      <td>0.0</td>\n",
       "      <td>0.0</td>\n",
       "      <td>0.0</td>\n",
       "      <td>6.0</td>\n",
       "      <td>27.0</td>\n",
       "      <td>StatusNetwork</td>\n",
       "      <td>EOS</td>\n",
       "    </tr>\n",
       "  </tbody>\n",
       "</table>\n",
       "<p>5 rows × 51 columns</p>\n",
       "</div>"
      ],
      "text/plain": [
       "   Unnamed: 0  Index                                     Address  FLAG  \\\n",
       "0           0      1  0x00009277775ac7d0d59eaad8fee3d10ac6c805e8     0   \n",
       "1           1      2  0x0002b44ddb1476db43c868bd494422ee4c136fed     0   \n",
       "2           2      3  0x0002bda54cb772d040f779e88eb453cac0daa244     0   \n",
       "3           3      4  0x00038e6ba2fd5c09aedb96697c8d7b8fa6632e5e     0   \n",
       "4           4      5  0x00062d1dd1afb6fb02540ddad9cdebfe568e0d89     0   \n",
       "\n",
       "   Avg min between sent tnx  Avg min between received tnx  \\\n",
       "0                    844.26                       1093.71   \n",
       "1                  12709.07                       2958.44   \n",
       "2                 246194.54                       2434.02   \n",
       "3                  10219.60                      15785.09   \n",
       "4                     36.61                      10707.77   \n",
       "\n",
       "   Time Diff between first and last (Mins)  Sent tnx  Received Tnx  \\\n",
       "0                                704785.63       721            89   \n",
       "1                               1218216.73        94             8   \n",
       "2                                516729.30         2            10   \n",
       "3                                397555.90        25             9   \n",
       "4                                382472.42      4598            20   \n",
       "\n",
       "   Number of Created Contracts  ...   ERC20 min val sent   ERC20 max val sent  \\\n",
       "0                            0  ...             0.000000         1.683100e+07   \n",
       "1                            0  ...             2.260809         2.260809e+00   \n",
       "2                            0  ...             0.000000         0.000000e+00   \n",
       "3                            0  ...           100.000000         9.029231e+03   \n",
       "4                            1  ...             0.000000         4.500000e+04   \n",
       "\n",
       "    ERC20 avg val sent   ERC20 min val sent contract  \\\n",
       "0        271779.920000                           0.0   \n",
       "1             2.260809                           0.0   \n",
       "2             0.000000                           0.0   \n",
       "3          3804.076893                           0.0   \n",
       "4         13726.659220                           0.0   \n",
       "\n",
       "    ERC20 max val sent contract   ERC20 avg val sent contract  \\\n",
       "0                           0.0                           0.0   \n",
       "1                           0.0                           0.0   \n",
       "2                           0.0                           0.0   \n",
       "3                           0.0                           0.0   \n",
       "4                           0.0                           0.0   \n",
       "\n",
       "    ERC20 uniq sent token name   ERC20 uniq rec token name  \\\n",
       "0                         39.0                        57.0   \n",
       "1                          1.0                         7.0   \n",
       "2                          0.0                         8.0   \n",
       "3                          1.0                        11.0   \n",
       "4                          6.0                        27.0   \n",
       "\n",
       "    ERC20 most sent token type   ERC20_most_rec_token_type  \n",
       "0                    Cofoundit                   Numeraire  \n",
       "1               Livepeer Token              Livepeer Token  \n",
       "2                          NaN                       XENON  \n",
       "3                       Raiden                       XENON  \n",
       "4                StatusNetwork                         EOS  \n",
       "\n",
       "[5 rows x 51 columns]"
      ]
     },
     "execution_count": 2,
     "metadata": {},
     "output_type": "execute_result"
    }
   ],
   "source": [
    "import pandas as pd\n",
    "\n",
    "dataset_csv= pd.read_csv(\"Ethereum_Fraud_Detection.csv\")\n",
    "\n",
    "dataframe= pd.DataFrame(dataset_csv)\n",
    "dataframe.head()\n",
    "\n"
   ]
  },
  {
   "cell_type": "markdown",
   "id": "c50e0ee8",
   "metadata": {},
   "source": [
    "<h3>Rows and Columns</h3>"
   ]
  },
  {
   "cell_type": "code",
   "execution_count": 162,
   "id": "59c8c3f0",
   "metadata": {},
   "outputs": [
    {
     "name": "stdout",
     "output_type": "stream",
     "text": [
      "Rows: 9841\n",
      "Columns: 51\n"
     ]
    }
   ],
   "source": [
    "rows, columns = dataframe.shape\n",
    "print(\"Rows:\", rows)\n",
    "print(\"Columns:\", columns)"
   ]
  },
  {
   "cell_type": "markdown",
   "id": "6b55ff87",
   "metadata": {},
   "source": [
    "<h3>  Data type of different Columns</h3>"
   ]
  },
  {
   "cell_type": "code",
   "execution_count": 59,
   "id": "8e2f37d8",
   "metadata": {},
   "outputs": [
    {
     "name": "stdout",
     "output_type": "stream",
     "text": [
      "['Unnamed: 0', 'Index', 'FLAG', 'Sent tnx', 'Received Tnx', 'Number of Created Contracts', 'Unique Received From Addresses', 'Unique Sent To Addresses', 'total transactions (including tnx to create contract']\n",
      "['Avg min between sent tnx', 'Avg min between received tnx', 'Time Diff between first and last (Mins)', 'min value received', 'max value received ', 'avg val received', 'min val sent', 'max val sent', 'avg val sent', 'min value sent to contract', 'max val sent to contract', 'avg value sent to contract', 'total Ether sent', 'total ether received', 'total ether sent contracts', 'total ether balance', ' Total ERC20 tnxs', ' ERC20 total Ether received', ' ERC20 total ether sent', ' ERC20 total Ether sent contract', ' ERC20 uniq sent addr', ' ERC20 uniq rec addr', ' ERC20 uniq sent addr.1', ' ERC20 uniq rec contract addr', ' ERC20 avg time between sent tnx', ' ERC20 avg time between rec tnx', ' ERC20 avg time between rec 2 tnx', ' ERC20 avg time between contract tnx', ' ERC20 min val rec', ' ERC20 max val rec', ' ERC20 avg val rec', ' ERC20 min val sent', ' ERC20 max val sent', ' ERC20 avg val sent', ' ERC20 min val sent contract', ' ERC20 max val sent contract', ' ERC20 avg val sent contract', ' ERC20 uniq sent token name', ' ERC20 uniq rec token name']\n",
      "['Address', ' ERC20 most sent token type', ' ERC20_most_rec_token_type']\n"
     ]
    }
   ],
   "source": [
    "\n",
    "\n",
    "# converting same data types columns to list \n",
    "int64_type_list = dataframe.select_dtypes(include=['int64']).columns.tolist()\n",
    "float64_type_list = dataframe.select_dtypes(include=['float64']).columns.tolist()\n",
    "object_type_list = dataframe.select_dtypes(include=['object']).columns.tolist()\n",
    "\n",
    "print((int64_type_list))\n",
    "print((float64_type_list))\n",
    "print((object_type_list))\n",
    "\n",
    "\n",
    "\n",
    "\n"
   ]
  },
  {
   "cell_type": "markdown",
   "id": "03c4e1e2",
   "metadata": {},
   "source": [
    "<h1>2. Data Cleaning</h1>"
   ]
  },
  {
   "cell_type": "markdown",
   "id": "e1463163",
   "metadata": {},
   "source": [
    "<h3>2.1 Missing Values</h3>"
   ]
  },
  {
   "cell_type": "markdown",
   "id": "17621a10",
   "metadata": {},
   "source": [
    "<h4>. Checking Null Values for Int and Float data type columns</h4>"
   ]
  },
  {
   "cell_type": "code",
   "execution_count": 68,
   "id": "386b25b2",
   "metadata": {},
   "outputs": [
    {
     "name": "stdout",
     "output_type": "stream",
     "text": [
      "Unnamed: 0: 0 NaN values\n",
      "Index: 0 NaN values\n",
      "FLAG: 0 NaN values\n",
      "Avg min between sent tnx: 0 NaN values\n",
      "Avg min between received tnx: 0 NaN values\n",
      "Time Diff between first and last (Mins): 0 NaN values\n",
      "Sent tnx: 0 NaN values\n",
      "Received Tnx: 0 NaN values\n",
      "Number of Created Contracts: 0 NaN values\n",
      "Unique Received From Addresses: 0 NaN values\n",
      "Unique Sent To Addresses: 0 NaN values\n",
      "min value received: 0 NaN values\n",
      "max value received : 0 NaN values\n",
      "avg val received: 0 NaN values\n",
      "min val sent: 0 NaN values\n",
      "max val sent: 0 NaN values\n",
      "avg val sent: 0 NaN values\n",
      "min value sent to contract: 0 NaN values\n",
      "max val sent to contract: 0 NaN values\n",
      "avg value sent to contract: 0 NaN values\n",
      "total transactions (including tnx to create contract: 0 NaN values\n",
      "total Ether sent: 0 NaN values\n",
      "total ether received: 0 NaN values\n",
      "total ether sent contracts: 0 NaN values\n",
      "total ether balance: 0 NaN values\n",
      " Total ERC20 tnxs: 0 NaN values\n",
      " ERC20 total Ether received: 0 NaN values\n",
      " ERC20 total ether sent: 0 NaN values\n",
      " ERC20 total Ether sent contract: 0 NaN values\n",
      " ERC20 uniq sent addr: 0 NaN values\n",
      " ERC20 uniq rec addr: 0 NaN values\n",
      " ERC20 uniq sent addr.1: 0 NaN values\n",
      " ERC20 uniq rec contract addr: 0 NaN values\n",
      " ERC20 avg time between sent tnx: 0 NaN values\n",
      " ERC20 avg time between rec tnx: 0 NaN values\n",
      " ERC20 avg time between rec 2 tnx: 0 NaN values\n",
      " ERC20 avg time between contract tnx: 0 NaN values\n",
      " ERC20 min val rec: 0 NaN values\n",
      " ERC20 max val rec: 0 NaN values\n",
      " ERC20 avg val rec: 0 NaN values\n",
      " ERC20 min val sent: 0 NaN values\n",
      " ERC20 max val sent: 0 NaN values\n",
      " ERC20 avg val sent: 0 NaN values\n",
      " ERC20 min val sent contract: 0 NaN values\n",
      " ERC20 max val sent contract: 0 NaN values\n",
      " ERC20 avg val sent contract: 0 NaN values\n",
      " ERC20 uniq sent token name: 0 NaN values\n",
      " ERC20 uniq rec token name: 0 NaN values\n"
     ]
    },
    {
     "data": {
      "text/plain": [
       "{'Unnamed: 0': [],\n",
       " 'Index': [],\n",
       " 'FLAG': [],\n",
       " 'Avg min between sent tnx': [],\n",
       " 'Avg min between received tnx': [],\n",
       " 'Time Diff between first and last (Mins)': [],\n",
       " 'Sent tnx': [],\n",
       " 'Received Tnx': [],\n",
       " 'Number of Created Contracts': [],\n",
       " 'Unique Received From Addresses': [],\n",
       " 'Unique Sent To Addresses': [],\n",
       " 'min value received': [],\n",
       " 'max value received ': [],\n",
       " 'avg val received': [],\n",
       " 'min val sent': [],\n",
       " 'max val sent': [],\n",
       " 'avg val sent': [],\n",
       " 'min value sent to contract': [],\n",
       " 'max val sent to contract': [],\n",
       " 'avg value sent to contract': [],\n",
       " 'total transactions (including tnx to create contract': [],\n",
       " 'total Ether sent': [],\n",
       " 'total ether received': [],\n",
       " 'total ether sent contracts': [],\n",
       " 'total ether balance': [],\n",
       " ' Total ERC20 tnxs': [],\n",
       " ' ERC20 total Ether received': [],\n",
       " ' ERC20 total ether sent': [],\n",
       " ' ERC20 total Ether sent contract': [],\n",
       " ' ERC20 uniq sent addr': [],\n",
       " ' ERC20 uniq rec addr': [],\n",
       " ' ERC20 uniq sent addr.1': [],\n",
       " ' ERC20 uniq rec contract addr': [],\n",
       " ' ERC20 avg time between sent tnx': [],\n",
       " ' ERC20 avg time between rec tnx': [],\n",
       " ' ERC20 avg time between rec 2 tnx': [],\n",
       " ' ERC20 avg time between contract tnx': [],\n",
       " ' ERC20 min val rec': [],\n",
       " ' ERC20 max val rec': [],\n",
       " ' ERC20 avg val rec': [],\n",
       " ' ERC20 min val sent': [],\n",
       " ' ERC20 max val sent': [],\n",
       " ' ERC20 avg val sent': [],\n",
       " ' ERC20 min val sent contract': [],\n",
       " ' ERC20 max val sent contract': [],\n",
       " ' ERC20 avg val sent contract': [],\n",
       " ' ERC20 uniq sent token name': [],\n",
       " ' ERC20 uniq rec token name': []}"
      ]
     },
     "execution_count": 68,
     "metadata": {},
     "output_type": "execute_result"
    }
   ],
   "source": [
    " \n",
    "nan_int_float_indices= {}\n",
    "\n",
    "int_float_columns = dataframe.select_dtypes(include=['int64','float64'])\n",
    "\n",
    "for column in int_float_columns.columns:\n",
    "    mask= int_float_columns[column].isna()  # filter the rows with NaN \n",
    "    indices = int_float_columns[column][mask].index.tolist()  # find row index and converting to list\n",
    "    nan_int_float_indices[column] = indices # storing in dictionary\n",
    "    \n",
    "\n",
    "for column, list in nan_int_float_indices.items():\n",
    "     print(f\"{column}: {len(list)} NaN values\")  # count each list NaN\n",
    "\n",
    "\n",
    "nan_int_float_indices\n",
    " "
   ]
  },
  {
   "cell_type": "markdown",
   "id": "658a1812",
   "metadata": {},
   "source": [
    "<h4>. Checking NaN (shows None in excel) or Empty('') and Zero('0')  value in Object data type columns</h4>"
   ]
  },
  {
   "cell_type": "code",
   "execution_count": 48,
   "id": "ed149183",
   "metadata": {},
   "outputs": [
    {
     "name": "stdout",
     "output_type": "stream",
     "text": [
      "=== ERC20_most_rec_token_type ===\n",
      "0 values: 4399\n",
      "Empty strings: 21\n",
      "Null (NaN) values: 871\n",
      "Valid token values: 4550\n",
      "\n",
      "=== ERC20 most sent token type ===\n",
      "0 values: 4399\n",
      "Empty strings: 1191\n",
      "Null (NaN) values: 2697\n",
      "Valid token values: 1554\n",
      "\n",
      "=== Address column summary ===\n",
      "0 values: 0\n",
      "Empty strings: 0\n",
      "Null (NaN) values: 0\n",
      "Valid address values: 9841\n"
     ]
    }
   ],
   "source": [
    "nan_object_indices={}\n",
    "\n",
    "object_columns = dataframe.select_dtypes(include='object')\n",
    "\n",
    "\n",
    "# --- ERC20_most_rec_token_type ---\n",
    "\n",
    "col1 = object_columns[' ERC20_most_rec_token_type']\n",
    "\n",
    "count_0_1 = (col1.str.strip() == '0').sum()\n",
    "count_empty_1 = (col1.str.strip() == '').sum()\n",
    "count_null_1 = col1.isna().sum()\n",
    "\n",
    "valid_mask_1 = (\n",
    "    col1.notna() &\n",
    "    (col1.str.strip() != '0') &\n",
    "    (col1.str.strip() != '') \n",
    ")\n",
    "valid_count_1 = valid_mask_1.sum()\n",
    "\n",
    "print(\"=== ERC20_most_rec_token_type ===\")\n",
    "print(\"0 values:\", count_0_1)\n",
    "print(\"Empty strings:\", count_empty_1)\n",
    "print(\"Null (NaN) values:\", count_null_1)\n",
    "print(\"Valid token values:\", valid_count_1)\n",
    "\n",
    "\n",
    "# --- ERC20 most sent token type ---\n",
    "col2 = object_columns[' ERC20 most sent token type']\n",
    "\n",
    "count_0_2 = (col2.str.strip() == '0').sum()\n",
    "count_empty_2 = (col2.str.strip() == '').sum()\n",
    "count_null_2 = col2.isna().sum()\n",
    "\n",
    "valid_mask_2 = (\n",
    "    col2.notna() &\n",
    "    (col2.str.strip() != '0') &\n",
    "    (col2.str.strip() != '') \n",
    ")\n",
    "valid_count_2 = valid_mask_2.sum()\n",
    "\n",
    "print(\"\\n=== ERC20 most sent token type ===\")\n",
    "print(\"0 values:\", count_0_2)\n",
    "print(\"Empty strings:\", count_empty_2)\n",
    "print(\"Null (NaN) values:\", count_null_2)\n",
    "print(\"Valid token values:\", valid_count_2)\n",
    "\n",
    "\n",
    "\n",
    "# --- Address ---\n",
    "\n",
    "col_addr = object_columns['Address']\n",
    "\n",
    "\n",
    "count_0_addr = (col_addr.str.strip() == '0').sum()\n",
    "count_empty_addr = (col_addr.str.strip() == '').sum()\n",
    "\n",
    "count_null_addr = col_addr.isna().sum()\n",
    "\n",
    "valid_mask_addr = (\n",
    "    col_addr.notna() &\n",
    "    (col_addr.str.strip() != '0') &\n",
    "    (col_addr.str.strip() != '') \n",
    ")\n",
    "valid_count_addr = valid_mask_addr.sum()\n",
    "\n",
    "print(\"\\n=== Address column summary ===\")\n",
    "print(\"0 values:\", count_0_addr)\n",
    "print(\"Empty strings:\", count_empty_addr)\n",
    "print(\"Null (NaN) values:\", count_null_addr)\n",
    "print(\"Valid address values:\", valid_count_addr)\n",
    "\n",
    "\n"
   ]
  },
  {
   "cell_type": "markdown",
   "id": "89177fe0",
   "metadata": {},
   "source": [
    "<h3>. Checking Null Values of Flag Column, which will decide the transaction is fradulant or not</h3>"
   ]
  },
  {
   "cell_type": "code",
   "execution_count": 54,
   "id": "1235ea7c",
   "metadata": {},
   "outputs": [
    {
     "name": "stdout",
     "output_type": "stream",
     "text": [
      "0\n"
     ]
    }
   ],
   "source": [
    "\n",
    "flag_column = dataframe['FLAG']\n",
    "print(flag_column.isna().sum()) # count True as 1 so it will be added\n"
   ]
  },
  {
   "cell_type": "markdown",
   "id": "5c3d9f50",
   "metadata": {},
   "source": [
    "<h3>2.2 Duplicate Record</h3>"
   ]
  },
  {
   "cell_type": "markdown",
   "id": "534eccc8",
   "metadata": {},
   "source": [
    "<h4>. Checking Duplicate Record</h4>\n",
    "\n",
    "\n"
   ]
  },
  {
   "cell_type": "code",
   "execution_count": 55,
   "id": "2b389802",
   "metadata": {},
   "outputs": [
    {
     "data": {
      "text/plain": [
       "np.int64(0)"
      ]
     },
     "execution_count": 55,
     "metadata": {},
     "output_type": "execute_result"
    }
   ],
   "source": [
    " \n",
    "duplicate = dataframe.duplicated()\n",
    "duplicate.sum()\n",
    "\n",
    "# no duplicate record found "
   ]
  },
  {
   "cell_type": "markdown",
   "id": "5271b60a",
   "metadata": {},
   "source": [
    "<h4>. Checking Duplicate Addresses</h4>"
   ]
  },
  {
   "cell_type": "code",
   "execution_count": 56,
   "id": "03e5e705",
   "metadata": {},
   "outputs": [
    {
     "name": "stdout",
     "output_type": "stream",
     "text": [
      "total duplicates :  25\n",
      "duplicat address and counts : Address\n",
      "0x4cb6f8f060365dd2e4eb949609dd6293bb950ae2    2\n",
      "0x4cb981a7a2956cdfa8afbf454cb4e1b13c69aeb9    2\n",
      "0x4cbfd5b6b8d69c12fab524a01f5283fcc75d5bc9    2\n",
      "0x4cc930a91865e30feff38465ace57711e3923881    2\n",
      "0x4cce03d1fd8aa1d6172cec74d75bd1df9e6a8ac2    2\n",
      "0x4cd3bb2110eda1805dc63abc1959a5ee2d386e9f    2\n",
      "0x4cd526aa2db72eb1fd557b37c6b0394acd35b212    2\n",
      "0x4cdf46740d51a0f6735fe3f1d28fadf00c20cd34    2\n",
      "0x4c13f6966dc24c92489344f0fd6f0e61f3489b84    2\n",
      "0x4c1da8781f6ca312bc11217b3f61e5dfdf428de1    2\n",
      "0x4c24af967901ec87a6644eb1ef42b680f58e67f5    2\n",
      "0x4c268c7b1d51b369153d6f1f28c61b15f0e17746    2\n",
      "0x4c26a3c12a64f33a3546fbb206c5365ce8e82c20    2\n",
      "0x4c271764eadcf0d07e5a937b2de290294c9d11c2    2\n",
      "0x4c27438a77738153f6cf3ed890b2817d52ebf584    2\n",
      "0x4c391cc032c9107b596267610a05262c90fc2df7    2\n",
      "0x4c4a03e100b4b104355edc4c50ce12b9a2879547    2\n",
      "0x4c4da560350e302232a184c8fa16b126a772c326    2\n",
      "0x4c5b0709f66719861e7277c9dcda9175deb3d866    2\n",
      "0x4c7520df888aa4569a37ac7d132f89c65821f0af    2\n",
      "0x4c77f6b01da78d053d5885e43bce5239b623dd3e    2\n",
      "0x4c7accc2689708892be29256fbe9d45a92f0aa97    2\n",
      "0x4c7f6d5b287054bf41f9d49ea8d2ca6e6837850b    2\n",
      "0x4c97ccdaa61ca167e8a3b4d425ae6fbf16bcb39c    2\n",
      "0x4cad652b71519a7a68d05dada31122c4c9a5ed95    2\n",
      "Name: count, dtype: int64\n"
     ]
    }
   ],
   "source": [
    "\n",
    "addresses = dataframe['Address']\n",
    "mask = addresses.duplicated()\n",
    "print(\"total duplicates : \", mask.sum()) # total duplicates are 25 address\n",
    "\n",
    "\n",
    "# Now checking which addresses are duplucated \n",
    "\n",
    "address_counts= dataframe['Address'].value_counts() # extract total count of each address \n",
    "duplicate = address_counts[address_counts>1] # filters only the count greater then 1 \n",
    "\n",
    "print(\"duplicat address and counts :\",duplicate)\n"
   ]
  },
  {
   "cell_type": "markdown",
   "id": "ca2b6989",
   "metadata": {},
   "source": [
    "<h2>Null, Empty and None values removal</h2>"
   ]
  },
  {
   "cell_type": "markdown",
   "id": "c219d229",
   "metadata": {},
   "source": [
    "<h3>Int and Float Type</h3>"
   ]
  },
  {
   "cell_type": "code",
   "execution_count": null,
   "id": "f2142cef",
   "metadata": {},
   "outputs": [
    {
     "name": "stdout",
     "output_type": "stream",
     "text": [
      "Unnamed: 0                                              0\n",
      "Index                                                   0\n",
      "FLAG                                                    0\n",
      "Avg min between sent tnx                                0\n",
      "Avg min between received tnx                            0\n",
      "Time Diff between first and last (Mins)                 0\n",
      "Sent tnx                                                0\n",
      "Received Tnx                                            0\n",
      "Number of Created Contracts                             0\n",
      "Unique Received From Addresses                          0\n",
      "Unique Sent To Addresses                                0\n",
      "min value received                                      0\n",
      "max value received                                      0\n",
      "avg val received                                        0\n",
      "min val sent                                            0\n",
      "max val sent                                            0\n",
      "avg val sent                                            0\n",
      "min value sent to contract                              0\n",
      "max val sent to contract                                0\n",
      "avg value sent to contract                              0\n",
      "total transactions (including tnx to create contract    0\n",
      "total Ether sent                                        0\n",
      "total ether received                                    0\n",
      "total ether sent contracts                              0\n",
      "total ether balance                                     0\n",
      " Total ERC20 tnxs                                       0\n",
      " ERC20 total Ether received                             0\n",
      " ERC20 total ether sent                                 0\n",
      " ERC20 total Ether sent contract                        0\n",
      " ERC20 uniq sent addr                                   0\n",
      " ERC20 uniq rec addr                                    0\n",
      " ERC20 uniq sent addr.1                                 0\n",
      " ERC20 uniq rec contract addr                           0\n",
      " ERC20 avg time between sent tnx                        0\n",
      " ERC20 avg time between rec tnx                         0\n",
      " ERC20 avg time between rec 2 tnx                       0\n",
      " ERC20 avg time between contract tnx                    0\n",
      " ERC20 min val rec                                      0\n",
      " ERC20 max val rec                                      0\n",
      " ERC20 avg val rec                                      0\n",
      " ERC20 min val sent                                     0\n",
      " ERC20 max val sent                                     0\n",
      " ERC20 avg val sent                                     0\n",
      " ERC20 min val sent contract                            0\n",
      " ERC20 max val sent contract                            0\n",
      " ERC20 avg val sent contract                            0\n",
      " ERC20 uniq sent token name                             0\n",
      " ERC20 uniq rec token name                              0\n",
      "dtype: int64\n"
     ]
    }
   ],
   "source": [
    "\n",
    "dataframe[int_float_columns.columns]= dataframe[int_float_columns.columns].fillna(0)\n",
    "\n",
    "print(dataframe[int_float_columns.columns].isna().sum())\n",
    "\n",
    "\n",
    "\n",
    "\n"
   ]
  },
  {
   "cell_type": "markdown",
   "id": "6307c461",
   "metadata": {},
   "source": [
    "<h3>Object  Type</h3>"
   ]
  },
  {
   "cell_type": "code",
   "execution_count": null,
   "id": "baf0747b",
   "metadata": {},
   "outputs": [
    {
     "ename": "AttributeError",
     "evalue": "'str' object has no attribute 'str'",
     "output_type": "error",
     "traceback": [
      "\u001b[31m---------------------------------------------------------------------------\u001b[39m",
      "\u001b[31mAttributeError\u001b[39m                            Traceback (most recent call last)",
      "\u001b[36mCell\u001b[39m\u001b[36m \u001b[39m\u001b[32mIn[79]\u001b[39m\u001b[32m, line 8\u001b[39m\n\u001b[32m      2\u001b[39m dataframe[object_columns.columns]=dataframe[object_columns.columns].replace(\u001b[33m'\u001b[39m\u001b[33m'\u001b[39m,\u001b[33m'\u001b[39m\u001b[33m0\u001b[39m\u001b[33m'\u001b[39m)\n\u001b[32m      6\u001b[39m \u001b[38;5;28;01mfor\u001b[39;00m col \u001b[38;5;129;01min\u001b[39;00m object_columns.columns:\n\u001b[32m----> \u001b[39m\u001b[32m8\u001b[39m     \u001b[38;5;28mprint\u001b[39m(\u001b[33mf\u001b[39m\u001b[33m\"\u001b[39m\u001b[38;5;132;01m{\u001b[39;00mcol\u001b[38;5;132;01m}\u001b[39;00m\u001b[33m Empty values : \u001b[39m\u001b[33m\"\u001b[39m,(\u001b[43mcol\u001b[49m\u001b[43m.\u001b[49m\u001b[43mstr\u001b[49m.strip() == \u001b[33m'\u001b[39m\u001b[33m'\u001b[39m).sum())\n\u001b[32m      9\u001b[39m     \u001b[38;5;28mprint\u001b[39m(\u001b[33mf\u001b[39m\u001b[33m\"\u001b[39m\u001b[38;5;132;01m{\u001b[39;00mcol\u001b[38;5;132;01m}\u001b[39;00m\u001b[33m NaN values :\u001b[39m\u001b[33m\"\u001b[39m, dataframe[col].isna().sum())\n",
      "\u001b[31mAttributeError\u001b[39m: 'str' object has no attribute 'str'"
     ]
    }
   ],
   "source": [
    "dataframe[object_columns.columns]= dataframe[object_columns.columns].fillna('0')\n",
    "dataframe[object_columns.columns]=dataframe[object_columns.columns].replace('','0')\n",
    "\n",
    "\n",
    "\n",
    "for col in object_columns.columns:\n",
    "    \n",
    "    print(f\"{col} Empty values : \",(dataframe[col].str.strip() == '').sum())\n",
    "    print(f\"{col} NaN values :\", dataframe[col].isna().sum())\n",
    "\n"
   ]
  }
 ],
 "metadata": {
  "kernelspec": {
   "display_name": "Python 3",
   "language": "python",
   "name": "python3"
  },
  "language_info": {
   "codemirror_mode": {
    "name": "ipython",
    "version": 3
   },
   "file_extension": ".py",
   "mimetype": "text/x-python",
   "name": "python",
   "nbconvert_exporter": "python",
   "pygments_lexer": "ipython3",
   "version": "3.13.4"
  }
 },
 "nbformat": 4,
 "nbformat_minor": 5
}
