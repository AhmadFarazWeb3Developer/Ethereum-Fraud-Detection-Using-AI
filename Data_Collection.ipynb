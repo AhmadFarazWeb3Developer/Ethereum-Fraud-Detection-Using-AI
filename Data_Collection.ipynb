{
 "cells": [
  {
   "cell_type": "markdown",
   "id": "b1d768a8",
   "metadata": {},
   "source": [
    "<h1>Data Collection</h1>"
   ]
  },
  {
   "cell_type": "markdown",
   "id": "7a42ec59",
   "metadata": {},
   "source": [
    "<h3>Dataset Head</h3>"
   ]
  },
  {
   "cell_type": "code",
   "execution_count": null,
   "id": "9cdbaa0d",
   "metadata": {},
   "outputs": [
    {
     "data": {
      "text/plain": [
       "Index(['Unnamed: 0', 'Index', 'Address', 'FLAG', 'Avg min between sent tnx',\n",
       "       'Avg min between received tnx',\n",
       "       'Time Diff between first and last (Mins)', 'Sent tnx', 'Received Tnx',\n",
       "       'Number of Created Contracts', 'Unique Received From Addresses',\n",
       "       'Unique Sent To Addresses', 'min value received', 'max value received ',\n",
       "       'avg val received', 'min val sent', 'max val sent', 'avg val sent',\n",
       "       'min value sent to contract', 'max val sent to contract',\n",
       "       'avg value sent to contract',\n",
       "       'total transactions (including tnx to create contract',\n",
       "       'total Ether sent', 'total ether received',\n",
       "       'total ether sent contracts', 'total ether balance',\n",
       "       ' Total ERC20 tnxs', ' ERC20 total Ether received',\n",
       "       ' ERC20 total ether sent', ' ERC20 total Ether sent contract',\n",
       "       ' ERC20 uniq sent addr', ' ERC20 uniq rec addr',\n",
       "       ' ERC20 uniq sent addr.1', ' ERC20 uniq rec contract addr',\n",
       "       ' ERC20 avg time between sent tnx', ' ERC20 avg time between rec tnx',\n",
       "       ' ERC20 avg time between rec 2 tnx',\n",
       "       ' ERC20 avg time between contract tnx', ' ERC20 min val rec',\n",
       "       ' ERC20 max val rec', ' ERC20 avg val rec', ' ERC20 min val sent',\n",
       "       ' ERC20 max val sent', ' ERC20 avg val sent',\n",
       "       ' ERC20 min val sent contract', ' ERC20 max val sent contract',\n",
       "       ' ERC20 avg val sent contract', ' ERC20 uniq sent token name',\n",
       "       ' ERC20 uniq rec token name', ' ERC20 most sent token type',\n",
       "       ' ERC20_most_rec_token_type'],\n",
       "      dtype='object')"
      ]
     },
     "execution_count": 155,
     "metadata": {},
     "output_type": "execute_result"
    }
   ],
   "source": [
    "import pandas as pd\n",
    "\n",
    "dataset_csv= pd.read_csv(\"Ethereum_Fraud_Detection.csv\")\n",
    "\n",
    "dataframe= pd.DataFrame(dataset_csv)\n",
    "dataframe.head()\n",
    "\n"
   ]
  },
  {
   "cell_type": "markdown",
   "id": "c50e0ee8",
   "metadata": {},
   "source": [
    "<h3>Rows and Columns</h3>"
   ]
  },
  {
   "cell_type": "code",
   "execution_count": null,
   "id": "59c8c3f0",
   "metadata": {},
   "outputs": [
    {
     "data": {
      "text/plain": [
       "Index(['Unnamed: 0', 'Index', 'Address', 'FLAG', 'Avg min between sent tnx',\n",
       "       'Avg min between received tnx',\n",
       "       'Time Diff between first and last (Mins)', 'Sent tnx', 'Received Tnx',\n",
       "       'Number of Created Contracts', 'Unique Received From Addresses',\n",
       "       'Unique Sent To Addresses', 'min value received', 'max value received ',\n",
       "       'avg val received', 'min val sent', 'max val sent', 'avg val sent',\n",
       "       'min value sent to contract', 'max val sent to contract',\n",
       "       'avg value sent to contract',\n",
       "       'total transactions (including tnx to create contract',\n",
       "       'total Ether sent', 'total ether received',\n",
       "       'total ether sent contracts', 'total ether balance',\n",
       "       ' Total ERC20 tnxs', ' ERC20 total Ether received',\n",
       "       ' ERC20 total ether sent', ' ERC20 total Ether sent contract',\n",
       "       ' ERC20 uniq sent addr', ' ERC20 uniq rec addr',\n",
       "       ' ERC20 uniq sent addr.1', ' ERC20 uniq rec contract addr',\n",
       "       ' ERC20 avg time between sent tnx', ' ERC20 avg time between rec tnx',\n",
       "       ' ERC20 avg time between rec 2 tnx',\n",
       "       ' ERC20 avg time between contract tnx', ' ERC20 min val rec',\n",
       "       ' ERC20 max val rec', ' ERC20 avg val rec', ' ERC20 min val sent',\n",
       "       ' ERC20 max val sent', ' ERC20 avg val sent',\n",
       "       ' ERC20 min val sent contract', ' ERC20 max val sent contract',\n",
       "       ' ERC20 avg val sent contract', ' ERC20 uniq sent token name',\n",
       "       ' ERC20 uniq rec token name', ' ERC20 most sent token type',\n",
       "       ' ERC20_most_rec_token_type'],\n",
       "      dtype='object')"
      ]
     },
     "execution_count": 161,
     "metadata": {},
     "output_type": "execute_result"
    }
   ],
   "source": [
    "rows, columns = dataframe.shape\n",
    "print(\"Rows:\", rows)\n",
    "print(\"Columns:\", columns)"
   ]
  },
  {
   "cell_type": "markdown",
   "id": "6b55ff87",
   "metadata": {},
   "source": [
    "<h3>  Data type of different Columns</h3>"
   ]
  },
  {
   "cell_type": "code",
   "execution_count": 85,
   "id": "8e2f37d8",
   "metadata": {},
   "outputs": [
    {
     "name": "stdout",
     "output_type": "stream",
     "text": [
      "['Unnamed: 0', 'Index', 'FLAG', 'Sent tnx', 'Received Tnx', 'Number of Created Contracts', 'Unique Received From Addresses', 'Unique Sent To Addresses', 'total transactions (including tnx to create contract']\n",
      "['Avg min between sent tnx', 'Avg min between received tnx', 'Time Diff between first and last (Mins)', 'min value received', 'max value received ', 'avg val received', 'min val sent', 'max val sent', 'avg val sent', 'min value sent to contract', 'max val sent to contract', 'avg value sent to contract', 'total Ether sent', 'total ether received', 'total ether sent contracts', 'total ether balance', ' Total ERC20 tnxs', ' ERC20 total Ether received', ' ERC20 total ether sent', ' ERC20 total Ether sent contract', ' ERC20 uniq sent addr', ' ERC20 uniq rec addr', ' ERC20 uniq sent addr.1', ' ERC20 uniq rec contract addr', ' ERC20 avg time between sent tnx', ' ERC20 avg time between rec tnx', ' ERC20 avg time between rec 2 tnx', ' ERC20 avg time between contract tnx', ' ERC20 min val rec', ' ERC20 max val rec', ' ERC20 avg val rec', ' ERC20 min val sent', ' ERC20 max val sent', ' ERC20 avg val sent', ' ERC20 min val sent contract', ' ERC20 max val sent contract', ' ERC20 avg val sent contract', ' ERC20 uniq sent token name', ' ERC20 uniq rec token name']\n",
      "['Address', ' ERC20 most sent token type', ' ERC20_most_rec_token_type']\n"
     ]
    }
   ],
   "source": [
    "\n",
    "\n",
    "# converting same data types columns to list \n",
    "int64_type_list = dataframe.select_dtypes(include=['int64']).columns.tolist()\n",
    "float64_type_list = dataframe.select_dtypes(include=['float64']).columns.tolist()\n",
    "object_type_list = dataframe.select_dtypes(include=['object']).columns.tolist()\n",
    "\n",
    "print((int64_type_list))\n",
    "print((float64_type_list))\n",
    "print((object_type_list))\n",
    "\n",
    "\n",
    "\n",
    "\n"
   ]
  },
  {
   "cell_type": "markdown",
   "id": "17621a10",
   "metadata": {},
   "source": [
    "<h3>Checking Null Values for Int and Float data type columns</h3>"
   ]
  },
  {
   "cell_type": "code",
   "execution_count": 125,
   "id": "386b25b2",
   "metadata": {},
   "outputs": [
    {
     "name": "stdout",
     "output_type": "stream",
     "text": [
      "Unnamed: 0: 0 NaN values\n",
      "Index: 0 NaN values\n",
      "FLAG: 0 NaN values\n",
      "Avg min between sent tnx: 0 NaN values\n",
      "Avg min between received tnx: 0 NaN values\n",
      "Time Diff between first and last (Mins): 0 NaN values\n",
      "Sent tnx: 0 NaN values\n",
      "Received Tnx: 0 NaN values\n",
      "Number of Created Contracts: 0 NaN values\n",
      "Unique Received From Addresses: 0 NaN values\n",
      "Unique Sent To Addresses: 0 NaN values\n",
      "min value received: 0 NaN values\n",
      "max value received : 0 NaN values\n",
      "avg val received: 0 NaN values\n",
      "min val sent: 0 NaN values\n",
      "max val sent: 0 NaN values\n",
      "avg val sent: 0 NaN values\n",
      "min value sent to contract: 0 NaN values\n",
      "max val sent to contract: 0 NaN values\n",
      "avg value sent to contract: 0 NaN values\n",
      "total transactions (including tnx to create contract: 0 NaN values\n",
      "total Ether sent: 0 NaN values\n",
      "total ether received: 0 NaN values\n",
      "total ether sent contracts: 0 NaN values\n",
      "total ether balance: 0 NaN values\n",
      " Total ERC20 tnxs: 829 NaN values\n",
      " ERC20 total Ether received: 829 NaN values\n",
      " ERC20 total ether sent: 829 NaN values\n",
      " ERC20 total Ether sent contract: 829 NaN values\n",
      " ERC20 uniq sent addr: 829 NaN values\n",
      " ERC20 uniq rec addr: 829 NaN values\n",
      " ERC20 uniq sent addr.1: 829 NaN values\n",
      " ERC20 uniq rec contract addr: 829 NaN values\n",
      " ERC20 avg time between sent tnx: 829 NaN values\n",
      " ERC20 avg time between rec tnx: 829 NaN values\n",
      " ERC20 avg time between rec 2 tnx: 829 NaN values\n",
      " ERC20 avg time between contract tnx: 829 NaN values\n",
      " ERC20 min val rec: 829 NaN values\n",
      " ERC20 max val rec: 829 NaN values\n",
      " ERC20 avg val rec: 829 NaN values\n",
      " ERC20 min val sent: 829 NaN values\n",
      " ERC20 max val sent: 829 NaN values\n",
      " ERC20 avg val sent: 829 NaN values\n",
      " ERC20 min val sent contract: 829 NaN values\n",
      " ERC20 max val sent contract: 829 NaN values\n",
      " ERC20 avg val sent contract: 829 NaN values\n",
      " ERC20 uniq sent token name: 829 NaN values\n",
      " ERC20 uniq rec token name: 829 NaN values\n"
     ]
    }
   ],
   "source": [
    " \n",
    "nan_int_float_indices= {}\n",
    "\n",
    "int_float_columns = dataframe.select_dtypes(include=['int64','float64'])\n",
    "\n",
    "for column in int_float_columns.columns:\n",
    "    mask= int_float_columns[column].isna()  # filter the rows with NaN \n",
    "    indices = int_float_columns[column][mask].index.tolist()  # find row index and converting to list\n",
    "    nan_int_float_indices[column] = indices # storing in dictionary\n",
    "    \n",
    "\n",
    "for column, list in nan_int_float_indices.items():\n",
    "     print(f\"{column}: {len(list)} NaN values\")  # count each list NaN\n",
    "\n",
    "\n",
    " "
   ]
  },
  {
   "cell_type": "markdown",
   "id": "658a1812",
   "metadata": {},
   "source": [
    "<h3>Checking Null Values in Object data type columns</h3>"
   ]
  },
  {
   "cell_type": "code",
   "execution_count": 129,
   "id": "ed149183",
   "metadata": {},
   "outputs": [
    {
     "name": "stdout",
     "output_type": "stream",
     "text": [
      "Address : 0 empty or missing values\n",
      " ERC20 most sent token type : 1191 empty or missing values\n",
      " ERC20_most_rec_token_type : 21 empty or missing values\n"
     ]
    }
   ],
   "source": [
    "nan_object_indices={}\n",
    "\n",
    "object_columns = dataframe.select_dtypes(include='object')\n",
    "\n",
    "\n",
    "for column in object_columns.columns:\n",
    "    mask = object_columns[column].str.strip()==''\n",
    "    indices = object_columns[column][mask].index.to_list()\n",
    "    nan_object_indices[column]=indices\n",
    "\n",
    "\n",
    "for column, list in nan_object_indices.items():\n",
    "    print(f\"{column} : {len(list)} empty or missing values\")\n",
    "\n"
   ]
  },
  {
   "cell_type": "markdown",
   "id": "89177fe0",
   "metadata": {},
   "source": [
    "<h3>Checking Null Values of Flag, which will decide the transaction is fradulant or not</h3>"
   ]
  },
  {
   "cell_type": "code",
   "execution_count": null,
   "id": "1235ea7c",
   "metadata": {},
   "outputs": [
    {
     "data": {
      "text/plain": [
       "np.int64(0)"
      ]
     },
     "execution_count": 137,
     "metadata": {},
     "output_type": "execute_result"
    }
   ],
   "source": [
    "\n",
    "flag_column = dataframe['FLAG']\n",
    "mask = flag_column.isna()\n",
    "mask.sum() # count True as 1 so it will be added\n"
   ]
  },
  {
   "cell_type": "markdown",
   "id": "534eccc8",
   "metadata": {},
   "source": [
    "<h3>Checking Duplicate Record</h3>\n",
    "\n",
    "\n"
   ]
  },
  {
   "cell_type": "code",
   "execution_count": null,
   "id": "2b389802",
   "metadata": {},
   "outputs": [
    {
     "data": {
      "text/plain": [
       "np.int64(0)"
      ]
     },
     "execution_count": 148,
     "metadata": {},
     "output_type": "execute_result"
    }
   ],
   "source": [
    " \n",
    "duplicate = dataframe.duplicated()\n",
    "duplicate.sum()\n",
    "\n",
    "# no duplicate record found "
   ]
  },
  {
   "cell_type": "markdown",
   "id": "5271b60a",
   "metadata": {},
   "source": [
    "<h3>Checking Duplicate Addresses</h3>"
   ]
  },
  {
   "cell_type": "code",
   "execution_count": 154,
   "id": "03e5e705",
   "metadata": {},
   "outputs": [
    {
     "name": "stdout",
     "output_type": "stream",
     "text": [
      "total duplicates :  25\n",
      "duplicat address and counts : Address\n",
      "0x4cb6f8f060365dd2e4eb949609dd6293bb950ae2    2\n",
      "0x4cb981a7a2956cdfa8afbf454cb4e1b13c69aeb9    2\n",
      "0x4cbfd5b6b8d69c12fab524a01f5283fcc75d5bc9    2\n",
      "0x4cc930a91865e30feff38465ace57711e3923881    2\n",
      "0x4cce03d1fd8aa1d6172cec74d75bd1df9e6a8ac2    2\n",
      "0x4cd3bb2110eda1805dc63abc1959a5ee2d386e9f    2\n",
      "0x4cd526aa2db72eb1fd557b37c6b0394acd35b212    2\n",
      "0x4cdf46740d51a0f6735fe3f1d28fadf00c20cd34    2\n",
      "0x4c13f6966dc24c92489344f0fd6f0e61f3489b84    2\n",
      "0x4c1da8781f6ca312bc11217b3f61e5dfdf428de1    2\n",
      "0x4c24af967901ec87a6644eb1ef42b680f58e67f5    2\n",
      "0x4c268c7b1d51b369153d6f1f28c61b15f0e17746    2\n",
      "0x4c26a3c12a64f33a3546fbb206c5365ce8e82c20    2\n",
      "0x4c271764eadcf0d07e5a937b2de290294c9d11c2    2\n",
      "0x4c27438a77738153f6cf3ed890b2817d52ebf584    2\n",
      "0x4c391cc032c9107b596267610a05262c90fc2df7    2\n",
      "0x4c4a03e100b4b104355edc4c50ce12b9a2879547    2\n",
      "0x4c4da560350e302232a184c8fa16b126a772c326    2\n",
      "0x4c5b0709f66719861e7277c9dcda9175deb3d866    2\n",
      "0x4c7520df888aa4569a37ac7d132f89c65821f0af    2\n",
      "0x4c77f6b01da78d053d5885e43bce5239b623dd3e    2\n",
      "0x4c7accc2689708892be29256fbe9d45a92f0aa97    2\n",
      "0x4c7f6d5b287054bf41f9d49ea8d2ca6e6837850b    2\n",
      "0x4c97ccdaa61ca167e8a3b4d425ae6fbf16bcb39c    2\n",
      "0x4cad652b71519a7a68d05dada31122c4c9a5ed95    2\n",
      "Name: count, dtype: int64\n"
     ]
    }
   ],
   "source": [
    "\n",
    "addresses = dataframe['Address']\n",
    "mask = addresses.duplicated()\n",
    "print(\"total duplicates : \", mask.sum()) # total duplicates are 25 address\n",
    "\n",
    "\n",
    "# Now checking which addresses are duplucated \n",
    "\n",
    "address_counts= dataframe['Address'].value_counts() # extract total count of each address \n",
    "duplicate = address_counts[address_counts>1] # filters only the count greater then 1 \n",
    "\n",
    "print(\"duplicat address and counts :\",duplicate)\n"
   ]
  }
 ],
 "metadata": {
  "kernelspec": {
   "display_name": "Python 3",
   "language": "python",
   "name": "python3"
  },
  "language_info": {
   "codemirror_mode": {
    "name": "ipython",
    "version": 3
   },
   "file_extension": ".py",
   "mimetype": "text/x-python",
   "name": "python",
   "nbconvert_exporter": "python",
   "pygments_lexer": "ipython3",
   "version": "3.13.4"
  }
 },
 "nbformat": 4,
 "nbformat_minor": 5
}
